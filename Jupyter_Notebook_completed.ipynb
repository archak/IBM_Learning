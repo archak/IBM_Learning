{
 "cells": [
  {
   "cell_type": "markdown",
   "metadata": {},
   "source": [
    "<center>\n",
    "    <img src=\"https://s3-api.us-geo.objectstorage.softlayer.net/cf-courses-data/CognitiveClass/Logos/organization_logo/organization_logo.png\" width=\"300\" alt=\"cognitiveclass.ai logo\"  />\n",
    "</center>\n"
   ]
  },
  {
   "cell_type": "markdown",
   "metadata": {},
   "source": [
    "#### Add your code below following the instructions given in the course\n"
   ]
  },
  {
   "cell_type": "markdown",
   "metadata": {},
   "source": [
    "# Cell 1\n",
    "# My Jupyter Notebook on IBM Watson Studio"
   ]
  },
  {
   "cell_type": "markdown",
   "metadata": {},
   "source": [
    "# Cell 2\n",
    "\n",
    "**Archak Mittal** <br>\n",
    "Data Scientist"
   ]
  },
  {
   "cell_type": "markdown",
   "metadata": {},
   "source": [
    "# Cell 3\n",
    "*I am interested in data science because I like working with data and analyzing it to draw insights. I am excited to learn how the insights be applied to real world and decision making. I am looking forward to applying my skills to the real world.*"
   ]
  },
  {
   "cell_type": "markdown",
   "metadata": {},
   "source": [
    "# Cell 4\n",
    "### The code will multiply two numbers, 3 and 5."
   ]
  },
  {
   "cell_type": "markdown",
   "metadata": {},
   "source": [
    "# Cell 5"
   ]
  },
  {
   "cell_type": "code",
   "execution_count": 4,
   "metadata": {},
   "outputs": [
    {
     "name": "stdout",
     "output_type": "stream",
     "text": [
      "15\n"
     ]
    }
   ],
   "source": [
    "a = 3 * 5\n",
    "print(a)"
   ]
  },
  {
   "cell_type": "markdown",
   "metadata": {},
   "source": [
    "# Cell 6\n",
    "\n",
    "Demonstrating some formating skills\n",
    "\n",
    "1. Horizontal rule\n",
    "<hr>\n",
    "2. Bulleted list\n",
    "    * This is a bullet list\n",
    "    * This is a bullet list\n",
    "    * This is a bullet list\n",
    "    \n",
    "    <br>\n",
    "3. Numbered list\n",
    "    1. list item 1\n",
    "    2. list item 2\n",
    "    3. list item 3\n",
    "    \n",
    "    <br>  \n",
    "    \n",
    "4. Tables\n",
    "| Col 1 | Col 2 | Col 3 |\n",
    "| --- | --- | --- |\n",
    "| Entity | Item | Data |\n",
    "\n",
    "5. Hyperlinks \n",
    "\n",
    "<a href=\"www.google.com\" target=\"_blank\">Google</a>\n",
    "\n",
    "6. Images \n",
    " <img src=\"https://www.thefarmersdog.com/digest/wp-content/uploads/2020/07/Puppy-grass-shoe-1400x1049.jpg\" width=\"300\" alt=\"cognitiveclass.ai logo\"  />\n",
    " \n",
    " <br>\n",
    "  \n",
    "7. ~~Strikethrough~~"
   ]
  }
 ],
 "metadata": {
  "kernelspec": {
   "display_name": "Python",
   "language": "python",
   "name": "conda-env-python-py"
  },
  "language_info": {
   "codemirror_mode": {
    "name": "ipython",
    "version": 3
   },
   "file_extension": ".py",
   "mimetype": "text/x-python",
   "name": "python",
   "nbconvert_exporter": "python",
   "pygments_lexer": "ipython3",
   "version": "3.7.12"
  }
 },
 "nbformat": 4,
 "nbformat_minor": 4
}
